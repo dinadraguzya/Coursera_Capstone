{
 "cells": [
  {
   "cell_type": "markdown",
   "metadata": {},
   "source": [
    "### Introduction/Business Problem"
   ]
  },
  {
   "cell_type": "markdown",
   "metadata": {},
   "source": [
    "This project is aimed to explore and suggest the best regions for people who want to start a vending machines business in Boston(US). In retail, the most important contributor to success is location. Usually, business owners want their machines in places that have plenty of foot traffic, such as malls, large office complexes, schools, airports, in front of stores, etc. \n",
    "\n",
    "Geographic segmentation will help us segmenting the market based on location. Segmentation could be done by zip, city, borough, etc. depending on the scope of the business. We are making an assuption that having the vending machines business, this could be done by neighbourhood."
   ]
  },
  {
   "cell_type": "markdown",
   "metadata": {},
   "source": [
    "### Data"
   ]
  },
  {
   "attachments": {},
   "cell_type": "markdown",
   "metadata": {},
   "source": [
    "First, we need a list of neighborhoods in Boston before querying. We will use the list of neighborhoods available on the https://data.boston.gov/ page and filter out all the neighborhoods:\n",
    "\n",
    "http://bostonopendata-boston.opendata.arcgis.com/datasets/3525b0ee6e6b427f9aab5d0a1d0a1a28_0.csv \n",
    "\n",
    "The example of data as follows:\n",
    "\n",
    "|OBJECTID | Name      | Acres        | Neighborhood_ID | SqMiles | ShapeSTArea       | ShapeSTLength     |\n",
    "|:-------:|:---------:|:------------:|:---------------:|:-------:|:-----------------:|:-----------------:|\n",
    "|27\t      |Roslindale |\t1605.5682375 | 15              |\t2.51 |\t69938272.9255705 |\t53563.9125970566 |\n",
    "\n",
    "Next, with the list of regions, we will get the latitudes and longitudes of the neighborhoods with geocoder (or other services if geocoder service is not available). Having the coordinates of the neighborhoods, we can then query Foursquare to explore the amount and variety of the foot traffic places in the neighborhood and suggest the most fitting ones."
   ]
  }
 ],
 "metadata": {
  "kernelspec": {
   "display_name": "Python 3",
   "language": "python",
   "name": "python3"
  },
  "language_info": {
   "codemirror_mode": {
    "name": "ipython",
    "version": 3
   },
   "file_extension": ".py",
   "mimetype": "text/x-python",
   "name": "python",
   "nbconvert_exporter": "python",
   "pygments_lexer": "ipython3",
   "version": "3.6.8"
  }
 },
 "nbformat": 4,
 "nbformat_minor": 2
}
